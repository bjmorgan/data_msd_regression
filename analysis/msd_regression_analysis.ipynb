{
 "cells": [
  {
   "cell_type": "code",
   "execution_count": 4,
   "id": "7732fc38-018a-40a3-9efa-55d9bf3fa097",
   "metadata": {},
   "outputs": [
    {
     "name": "stdout",
     "output_type": "stream",
     "text": [
      "Running analysis with time averaging...\n",
      "Analyzing 28 conditions with time averaging\n"
     ]
    },
    {
     "data": {
      "application/vnd.jupyter.widget-view+json": {
       "model_id": "dba52b6a947b416f9e16de694f218002",
       "version_major": 2,
       "version_minor": 0
      },
      "text/plain": [
       "Conditions:   0%|          | 0/28 [00:00<?, ?it/s]"
      ]
     },
     "metadata": {},
     "output_type": "display_data"
    },
    {
     "name": "stdout",
     "output_type": "stream",
     "text": [
      "Running analysis without time averaging...\n",
      "Analyzing 7 conditions without time averaging\n"
     ]
    },
    {
     "data": {
      "application/vnd.jupyter.widget-view+json": {
       "model_id": "2ffe1825949449dcb4b2f83648b0b5bc",
       "version_major": 2,
       "version_minor": 0
      },
      "text/plain": [
       "Conditions:   0%|          | 0/7 [00:00<?, ?it/s]"
      ]
     },
     "metadata": {},
     "output_type": "display_data"
    },
    {
     "name": "stdout",
     "output_type": "stream",
     "text": [
      "Results saved to ../data/msd_results_nsim16384_npart128.csv\n"
     ]
    }
   ],
   "source": [
    "import msd_analysis as msd\n",
    "import numpy as np\n",
    "import matplotlib.pyplot as plt\n",
    "import pandas as pd\n",
    "\n",
    "import matplotlib.pyplot as plt\n",
    "%matplotlib inline\n",
    "%config InlineBackend.figure_format='retina'\n",
    "\n",
    "# Set up parameters\n",
    "n_steps_values = np.logspace(4, 10, 7, base=2, dtype=int)  \n",
    "max_lag_values = np.logspace(4, 10, 7, base=2, dtype=int)\n",
    "\n",
    "n_simulations = 16384\n",
    "n_particles = 128\n",
    "\n",
    "# Run analysis with time averaging\n",
    "print(\"Running analysis with time averaging...\")\n",
    "results_with = msd.run_analysis(\n",
    "    n_steps_values, max_lag_values,\n",
    "    n_simulations=n_simulations,\n",
    "    n_particles=n_particles,\n",
    "    random_seed=42,\n",
    "    time_average=True\n",
    ")\n",
    "\n",
    "# Run analysis without time averaging (diagonal only)\n",
    "print(\"Running analysis without time averaging...\")\n",
    "results_without = msd.run_analysis(\n",
    "    n_steps_values, max_lag_values,\n",
    "    n_simulations=n_simulations,\n",
    "    n_particles=n_particles,\n",
    "    random_seed=42,\n",
    "    time_average=False\n",
    ")\n",
    "\n",
    "# Convert to DataFrames\n",
    "df_with = msd.results_to_dataframe(results_with)\n",
    "df_without = msd.results_to_dataframe(results_without)\n",
    "df_all = pd.concat([df_with, df_without], ignore_index=True)\n",
    "\n",
    "filename = f'../data/msd_results_nsim{n_simulations}_npart{n_particles}.csv'\n",
    "df_all.to_csv(filename, index=False)\n",
    "print(f\"Results saved to {filename}\")"
   ]
  }
 ],
 "metadata": {
  "kernelspec": {
   "display_name": "Python 3 (ipykernel)",
   "language": "python",
   "name": "python3"
  },
  "language_info": {
   "codemirror_mode": {
    "name": "ipython",
    "version": 3
   },
   "file_extension": ".py",
   "mimetype": "text/x-python",
   "name": "python",
   "nbconvert_exporter": "python",
   "pygments_lexer": "ipython3",
   "version": "3.12.9"
  }
 },
 "nbformat": 4,
 "nbformat_minor": 5
}
